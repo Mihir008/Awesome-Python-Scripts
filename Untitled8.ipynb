{
  "nbformat": 4,
  "nbformat_minor": 0,
  "metadata": {
    "colab": {
      "provenance": [],
      "collapsed_sections": [],
      "authorship_tag": "ABX9TyP25bkMWBZAHSa80ahghYZt",
      "include_colab_link": true
    },
    "kernelspec": {
      "name": "python3",
      "display_name": "Python 3"
    },
    "language_info": {
      "name": "python"
    }
  },
  "cells": [
    {
      "cell_type": "markdown",
      "metadata": {
        "id": "view-in-github",
        "colab_type": "text"
      },
      "source": [
        "<a href=\"https://colab.research.google.com/github/Mihir008/Awesome-Python-Scripts/blob/master/Untitled8.ipynb\" target=\"_parent\"><img src=\"https://colab.research.google.com/assets/colab-badge.svg\" alt=\"Open In Colab\"/></a>"
      ]
    },
    {
      "cell_type": "code",
      "execution_count": 9,
      "metadata": {
        "id": "MGLRHdb2fAuO"
      },
      "outputs": [],
      "source": [
        "from nltk import *\n",
        "import pandas as pd\n",
        "import numpy as np\n",
        "from sklearn. feature_extraction. text import CountVectorizer\n",
        "from sklearn. model_selection import train_test_split\n",
        "from sklearn. tree import DecisionTreeClassifier"
      ]
    },
    {
      "cell_type": "code",
      "source": [
        "import nltk\n",
        "import re\n",
        "nltk. download('stopwords')\n",
        "from nltk. corpus import stopwords\n",
        "stopword=set(stopwords.words('english'))\n",
        "stemmer = nltk. SnowballStemmer(\"english\")\n"
      ],
      "metadata": {
        "colab": {
          "base_uri": "https://localhost:8080/"
        },
        "id": "yA9TPLiFfKHJ",
        "outputId": "c2be6786-d61f-4d05-e00e-443d4a6994ed"
      },
      "execution_count": 10,
      "outputs": [
        {
          "output_type": "stream",
          "name": "stderr",
          "text": [
            "[nltk_data] Downloading package stopwords to /root/nltk_data...\n",
            "[nltk_data]   Unzipping corpora/stopwords.zip.\n"
          ]
        }
      ]
    },
    {
      "cell_type": "code",
      "source": [
        "data = pd.read_csv(\"/content/labeled_data.csv\")\n",
        "#To preview the data\n",
        "print(data. head())"
      ],
      "metadata": {
        "colab": {
          "base_uri": "https://localhost:8080/"
        },
        "id": "W4S0nso-fKsX",
        "outputId": "5ea8d214-165c-4ee4-a71d-0fbb7d3816c6"
      },
      "execution_count": 11,
      "outputs": [
        {
          "output_type": "stream",
          "name": "stdout",
          "text": [
            "   Unnamed: 0  count  hate_speech  offensive_language  neither  class  \\\n",
            "0           0      3            0                   0        3      2   \n",
            "1           1      3            0                   3        0      1   \n",
            "2           2      3            0                   3        0      1   \n",
            "3           3      3            0                   2        1      1   \n",
            "4           4      6            0                   6        0      1   \n",
            "\n",
            "                                               tweet  \n",
            "0  !!! RT @mayasolovely: As a woman you shouldn't...  \n",
            "1  !!!!! RT @mleew17: boy dats cold...tyga dwn ba...  \n",
            "2  !!!!!!! RT @UrKindOfBrand Dawg!!!! RT @80sbaby...  \n",
            "3  !!!!!!!!! RT @C_G_Anderson: @viva_based she lo...  \n",
            "4  !!!!!!!!!!!!! RT @ShenikaRoberts: The shit you...  \n"
          ]
        }
      ]
    },
    {
      "cell_type": "code",
      "source": [
        "data[\"labels\"] = data[\"class\"]. map({0: \"Hate Speech\", 1: \"Offensive Speech\", 2: \"No Hate and Offensive Speech\"})\n",
        "data = data[[\"tweet\", \"labels\"]]\n",
        "print(data. head())"
      ],
      "metadata": {
        "colab": {
          "base_uri": "https://localhost:8080/"
        },
        "id": "kinCU_DMfdvj",
        "outputId": "eb9e405a-110c-4101-cce4-f00e41fb485e"
      },
      "execution_count": 12,
      "outputs": [
        {
          "output_type": "stream",
          "name": "stdout",
          "text": [
            "                                               tweet  \\\n",
            "0  !!! RT @mayasolovely: As a woman you shouldn't...   \n",
            "1  !!!!! RT @mleew17: boy dats cold...tyga dwn ba...   \n",
            "2  !!!!!!! RT @UrKindOfBrand Dawg!!!! RT @80sbaby...   \n",
            "3  !!!!!!!!! RT @C_G_Anderson: @viva_based she lo...   \n",
            "4  !!!!!!!!!!!!! RT @ShenikaRoberts: The shit you...   \n",
            "\n",
            "                         labels  \n",
            "0  No Hate and Offensive Speech  \n",
            "1              Offensive Speech  \n",
            "2              Offensive Speech  \n",
            "3              Offensive Speech  \n",
            "4              Offensive Speech  \n"
          ]
        }
      ]
    },
    {
      "cell_type": "code",
      "source": [
        "def clean (text):\n",
        "    text = str(text).lower()\n",
        "    text = re. sub('[.?]', '', text)\n",
        "    text = re. sub('https?://\\S+|www.\\S+', '', text)\n",
        "    text = re. sub('<.?>+', '', text)\n",
        "    text = re. sub('[%s]' % re. escape(string. punctuation), '', text)\n",
        "    text = re. sub('\\n', '', text)\n",
        "    text = re. sub('\\w\\d\\w', '', text)\n",
        "    text = [word for word in text.split(' ') if word not in stopword]\n",
        "    text=\" \". join(text)\n",
        "    text = [stemmer. stem(word) for word in text. split(' ')]\n",
        "    text=\" \". join(text)\n",
        "    return text\n",
        "data[\"tweet\"] = data[\"tweet\"]"
      ],
      "metadata": {
        "id": "6nFjKNe5gZ27"
      },
      "execution_count": 20,
      "outputs": []
    },
    {
      "cell_type": "code",
      "source": [
        "x = np. array(data[\"tweet\"])\n",
        "y = np. array(data[\"labels\"])\n",
        "cv = CountVectorizer()\n",
        "X = cv. fit_transform(x)\n",
        "# Splitting the Data\n",
        "X_train, X_test, y_train, y_test = train_test_split(X, y, test_size=0.33, random_state=42)\n",
        "\n"
      ],
      "metadata": {
        "id": "ZNam6YHNg9O1"
      },
      "execution_count": 21,
      "outputs": []
    },
    {
      "cell_type": "code",
      "source": [
        "#Model building\n",
        "model = DecisionTreeClassifier()\n",
        "#Training the model\n",
        "model. fit(X_train,y_train)"
      ],
      "metadata": {
        "colab": {
          "base_uri": "https://localhost:8080/"
        },
        "id": "5cP5Vf1q2LEB",
        "outputId": "73b805cf-7471-4b75-e5ad-b4be7a160439"
      },
      "execution_count": 22,
      "outputs": [
        {
          "output_type": "execute_result",
          "data": {
            "text/plain": [
              "DecisionTreeClassifier()"
            ]
          },
          "metadata": {},
          "execution_count": 22
        }
      ]
    },
    {
      "cell_type": "code",
      "source": [
        "#Testing the model\n",
        "y_pred = model. predict (X_test)\n",
        "y_pred\n",
        "\n"
      ],
      "metadata": {
        "colab": {
          "base_uri": "https://localhost:8080/"
        },
        "id": "dWdPXtcQ2Qdu",
        "outputId": "237c9798-14d5-4217-c681-3349a64b0def"
      },
      "execution_count": 23,
      "outputs": [
        {
          "output_type": "execute_result",
          "data": {
            "text/plain": [
              "array(['Offensive Speech', 'Offensive Speech', 'Offensive Speech', ...,\n",
              "       'No Hate and Offensive Speech', 'No Hate and Offensive Speech',\n",
              "       'Offensive Speech'], dtype=object)"
            ]
          },
          "metadata": {},
          "execution_count": 23
        }
      ]
    },
    {
      "cell_type": "code",
      "source": [
        "#Accuracy Score of our model\n",
        "from sklearn. metrics import accuracy_score\n",
        "print (accuracy_score (y_test,y_pred))\n",
        "\n"
      ],
      "metadata": {
        "colab": {
          "base_uri": "https://localhost:8080/"
        },
        "id": "o2TVL7hl2Uon",
        "outputId": "a983576d-2b6e-4d25-9c53-2c1aab2d7289"
      },
      "execution_count": 24,
      "outputs": [
        {
          "output_type": "stream",
          "name": "stdout",
          "text": [
            "0.889595305049517\n"
          ]
        }
      ]
    },
    {
      "cell_type": "code",
      "source": [
        "inp = \"It is really awesome\"\n",
        "inp = cv. transform([inp]). toarray()\n",
        "print(model. predict(inp))\n",
        "\n"
      ],
      "metadata": {
        "colab": {
          "base_uri": "https://localhost:8080/"
        },
        "id": "Uhv2VGaf2dwr",
        "outputId": "b29a17cf-2fb8-4683-8f2f-3485f5c83b1b"
      },
      "execution_count": 26,
      "outputs": [
        {
          "output_type": "stream",
          "name": "stdout",
          "text": [
            "['No Hate and Offensive Speech']\n"
          ]
        }
      ]
    },
    {
      "cell_type": "code",
      "source": [],
      "metadata": {
        "id": "5wqnOsIy2jSt"
      },
      "execution_count": null,
      "outputs": []
    }
  ]
}